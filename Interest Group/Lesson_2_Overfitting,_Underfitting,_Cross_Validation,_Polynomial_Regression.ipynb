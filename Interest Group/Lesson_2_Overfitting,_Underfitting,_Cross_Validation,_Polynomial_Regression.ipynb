{
  "nbformat": 4,
  "nbformat_minor": 0,
  "metadata": {
    "colab": {
      "name": "Lesson 2 - Overfitting, Underfitting, Cross Validation, Polynomial Regression",
      "provenance": [],
      "collapsed_sections": [],
      "include_colab_link": true
    },
    "kernelspec": {
      "name": "python3",
      "display_name": "Python 3"
    }
  },
  "cells": [
    {
      "cell_type": "markdown",
      "metadata": {
        "id": "view-in-github",
        "colab_type": "text"
      },
      "source": [
        "<a href=\"https://colab.research.google.com/github/xero-lib/MachineLearning/blob/master/Lesson_2_Overfitting%2C_Underfitting%2C_Cross_Validation%2C_Polynomial_Regression.ipynb\" target=\"_parent\"><img src=\"https://colab.research.google.com/assets/colab-badge.svg\" alt=\"Open In Colab\"/></a>"
      ]
    },
    {
      "cell_type": "code",
      "metadata": {
        "id": "_wWqCEbuQCom",
        "colab_type": "code",
        "colab": {}
      },
      "source": [
        "import matplotlib.pylab as plt\n",
        "import numpy as np\n",
        "%matplotlib inline\n",
        "from sklearn.linear_model import LinearRegression\n",
        "from sklearn import datasets"
      ],
      "execution_count": 0,
      "outputs": []
    },
    {
      "cell_type": "code",
      "metadata": {
        "id": "RWLU0gh2Qja8",
        "colab_type": "code",
        "colab": {}
      },
      "source": [
        "diabetes = datasets.load_diabetes() # load data"
      ],
      "execution_count": 0,
      "outputs": []
    },
    {
      "cell_type": "code",
      "metadata": {
        "id": "LZua7pa9Qo8n",
        "colab_type": "code",
        "outputId": "89dfbf5d-cbb9-4dc4-9d96-6d889b9442f1",
        "colab": {
          "base_uri": "https://localhost:8080/",
          "height": 34
        }
      },
      "source": [
        "diabetes.data.shape # feature matrix shape"
      ],
      "execution_count": 0,
      "outputs": [
        {
          "output_type": "execute_result",
          "data": {
            "text/plain": [
              "(442, 10)"
            ]
          },
          "metadata": {
            "tags": []
          },
          "execution_count": 27
        }
      ]
    },
    {
      "cell_type": "code",
      "metadata": {
        "id": "IS0o44xHQspS",
        "colab_type": "code",
        "outputId": "4db9cd02-2d6b-4152-ccba-e53f558edba9",
        "colab": {
          "base_uri": "https://localhost:8080/",
          "height": 34
        }
      },
      "source": [
        "diabetes.target.shape # target vector shape"
      ],
      "execution_count": 0,
      "outputs": [
        {
          "output_type": "execute_result",
          "data": {
            "text/plain": [
              "(442,)"
            ]
          },
          "metadata": {
            "tags": []
          },
          "execution_count": 28
        }
      ]
    },
    {
      "cell_type": "code",
      "metadata": {
        "id": "NkrZLAq_QvFt",
        "colab_type": "code",
        "outputId": "b3763dd3-d9df-4ec5-dfdb-4beea7efb513",
        "colab": {
          "base_uri": "https://localhost:8080/",
          "height": 34
        }
      },
      "source": [
        "diabetes.feature_names # column names"
      ],
      "execution_count": 0,
      "outputs": [
        {
          "output_type": "execute_result",
          "data": {
            "text/plain": [
              "['age', 'sex', 'bmi', 'bp', 's1', 's2', 's3', 's4', 's5', 's6']"
            ]
          },
          "metadata": {
            "tags": []
          },
          "execution_count": 29
        }
      ]
    },
    {
      "cell_type": "markdown",
      "metadata": {
        "id": "YRDfyfOT_Jv8",
        "colab_type": "text"
      },
      "source": [
        "When training on data, we don't want to use all of our data to train the model, because we want to section off some data for us to test the models performance. The reason why we can't just use the data the model was trained on to judge the model's performance is because that would give an overly optimistic view on how the model is doing. It's like giving you the exact same test to practice on as the one you will take on test day. "
      ]
    },
    {
      "cell_type": "code",
      "metadata": {
        "id": "898xTGU4Qy_L",
        "colab_type": "code",
        "colab": {}
      },
      "source": [
        "from sklearn.model_selection import train_test_split\n",
        "X_train, X_test, y_train, y_test = train_test_split(diabetes.data, diabetes.target, test_size=0.2, random_state=0)"
      ],
      "execution_count": 0,
      "outputs": []
    },
    {
      "cell_type": "markdown",
      "metadata": {
        "id": "e0vxMs3ZACUx",
        "colab_type": "text"
      },
      "source": [
        "There are three steps to getting a model up and running in sklearn. \n",
        "1. Set up the model\n",
        "2. Fit the model \n",
        "3. Check the score"
      ]
    },
    {
      "cell_type": "code",
      "metadata": {
        "id": "faOiMumaQ2Gg",
        "colab_type": "code",
        "outputId": "38fb6752-c3e3-426c-a0fc-752ed9744bfd",
        "colab": {
          "base_uri": "https://localhost:8080/",
          "height": 34
        }
      },
      "source": [
        "# 1. Set up the model\n",
        "model = LinearRegression()\n",
        "# 2. Use fit\n",
        "model.fit(X_train, y_train)\n",
        "# 3. Check the score\n",
        "print(model.score(X_test, y_test))\n",
        "model_final = model"
      ],
      "execution_count": 0,
      "outputs": [
        {
          "output_type": "stream",
          "text": [
            "0.33222203269065176\n"
          ],
          "name": "stdout"
        }
      ]
    },
    {
      "cell_type": "markdown",
      "metadata": {
        "id": "hyLlVttozVZ3",
        "colab_type": "text"
      },
      "source": [
        "![alt text](https://www.statisticshowto.datasciencecentral.com/wp-content/uploads/2016/10/root-mean-square-error.png)\n",
        "\n",
        "This is the loss function so that the model can see how well it is predicting and adjust."
      ]
    },
    {
      "cell_type": "code",
      "metadata": {
        "id": "oDvwWdIVQ4wZ",
        "colab_type": "code",
        "outputId": "a52331cd-13ae-4742-d19d-72b21dbb663e",
        "colab": {
          "base_uri": "https://localhost:8080/",
          "height": 68
        }
      },
      "source": [
        "model.coef_ # Get the coefficients, beta"
      ],
      "execution_count": 0,
      "outputs": [
        {
          "output_type": "execute_result",
          "data": {
            "text/plain": [
              "array([ -35.55683674, -243.1692265 ,  562.75404632,  305.47203008,\n",
              "       -662.78772128,  324.27527477,   24.78193291,  170.33056502,\n",
              "        731.67810787,   43.02846824])"
            ]
          },
          "metadata": {
            "tags": []
          },
          "execution_count": 32
        }
      ]
    },
    {
      "cell_type": "code",
      "metadata": {
        "id": "JP0JU0o-RA98",
        "colab_type": "code",
        "outputId": "289505aa-046f-4a6f-e147-c08950624f69",
        "colab": {
          "base_uri": "https://localhost:8080/",
          "height": 34
        }
      },
      "source": [
        "model.intercept_ # Get the intercept, c"
      ],
      "execution_count": 0,
      "outputs": [
        {
          "output_type": "execute_result",
          "data": {
            "text/plain": [
              "152.5381335195406"
            ]
          },
          "metadata": {
            "tags": []
          },
          "execution_count": 33
        }
      ]
    },
    {
      "cell_type": "code",
      "metadata": {
        "id": "Dc02JoQ3RBnE",
        "colab_type": "code",
        "outputId": "e8934d9e-6ba1-4e7b-faec-3d791f0f4a04",
        "colab": {
          "base_uri": "https://localhost:8080/",
          "height": 408
        }
      },
      "source": [
        "model.predict(X_test) # Predict unkown data"
      ],
      "execution_count": 0,
      "outputs": [
        {
          "output_type": "execute_result",
          "data": {
            "text/plain": [
              "array([238.47145247, 248.93170646, 164.05404165, 120.30794355,\n",
              "       187.42422054, 259.04865002, 113.55556372, 188.07597044,\n",
              "       149.49663441, 236.01099949, 172.24629506, 178.88073764,\n",
              "       109.15751983,  92.13508975, 243.33042043,  87.356971  ,\n",
              "       155.72606406,  66.99073989, 100.42610442, 218.09422877,\n",
              "       196.66287912, 161.29832968, 161.70779605, 156.52520454,\n",
              "       197.88796516, 167.57984206, 120.74478913,  84.83879727,\n",
              "       192.03728687, 160.60687024, 175.17178362,  84.22833237,\n",
              "       145.7995542 , 145.97333493, 140.96488953, 197.00421108,\n",
              "       165.94322494, 190.65906468, 128.22520508, 206.41941223,\n",
              "        84.35851196, 164.0256504 , 144.1056776 , 184.68355549,\n",
              "       177.80238966,  74.32855231, 143.3660286 , 138.67726085,\n",
              "       120.81146113, 234.34252077, 161.94390244,  74.5455476 ,\n",
              "       154.71905074, 156.78884927, 237.42227096, 174.23053048,\n",
              "       190.88212635, 118.98373473, 132.20418974, 168.52674824,\n",
              "       214.74245466, 171.42364091, 157.37409906, 108.86927343,\n",
              "       257.06329636, 152.17777143,  82.43686464, 231.56746032,\n",
              "       202.90641336,  47.18340199,  78.46954525, 129.30170908,\n",
              "       104.60253144, 144.65200281, 132.27974254, 190.04134164,\n",
              "        97.55541138, 197.51891007, 219.13709291, 186.13797012,\n",
              "       149.60913007, 208.42379455,  44.59036026, 206.20925368,\n",
              "        76.77377721,  94.94046865, 145.2955051 , 194.03776373,\n",
              "       132.78534336])"
            ]
          },
          "metadata": {
            "tags": []
          },
          "execution_count": 34
        }
      ]
    },
    {
      "cell_type": "code",
      "metadata": {
        "id": "aGXrS3pxRERp",
        "colab_type": "code",
        "outputId": "67ebc5ce-4b0b-4ee9-c997-12f2a1f84e5e",
        "colab": {
          "base_uri": "https://localhost:8080/",
          "height": 269
        }
      },
      "source": [
        "# plot prediction and actual data\n",
        "y_pred = model.predict(X_test) \n",
        "plt.plot(y_test, y_pred, '.')\n",
        "\n",
        "# plot a line, a perfit predict would all fall on this line\n",
        "x = np.linspace(0, 330, 100)\n",
        "y = x\n",
        "plt.plot(x, y)\n",
        "plt.show()"
      ],
      "execution_count": 0,
      "outputs": [
        {
          "output_type": "display_data",
          "data": {
            "image/png": "[encoded data removed]",
            "text/plain": [
              "<Figure size 432x288 with 1 Axes>"
            ]
          },
          "metadata": {
            "tags": []
          }
        }
      ]
    },
    {
      "cell_type": "code",
      "metadata": {
        "id": "MKD5jfdSDoKD",
        "colab_type": "code",
        "outputId": "3b2f0f65-4186-460c-f855-d3197d767d93",
        "colab": {
          "base_uri": "https://localhost:8080/",
          "height": 102
        }
      },
      "source": [
        "from sklearn.metrics import mean_squared_error, r2_score\n",
        "print('Coefficients: \\n', model.coef_)\n",
        "# The mean squared error\n",
        "print(\"Mean squared error: %.2f\"\n",
        "      % mean_squared_error(y_test, y_pred))\n",
        "# Explained variance score: 1 is perfect prediction\n",
        "print('Variance score: %.2f' % r2_score(y_test, y_pred))"
      ],
      "execution_count": 0,
      "outputs": [
        {
          "output_type": "stream",
          "text": [
            "Coefficients: \n",
            " [ -35.55683674 -243.1692265   562.75404632  305.47203008 -662.78772128\n",
            "  324.27527477   24.78193291  170.33056502  731.67810787   43.02846824]\n",
            "Mean squared error: 3424.32\n",
            "Variance score: 0.33\n"
          ],
          "name": "stdout"
        }
      ]
    },
    {
      "cell_type": "markdown",
      "metadata": {
        "id": "FHso7DpzyXVV",
        "colab_type": "text"
      },
      "source": [
        "# Overfitting and Underfitting"
      ]
    },
    {
      "cell_type": "markdown",
      "metadata": {
        "id": "x8VSoy-gyu6I",
        "colab_type": "text"
      },
      "source": [
        "Underfitting is when models does not perform well on the training data of the test data. It is not able to capture the actual relationship between the features and the output, and instead has a strong preconcieved notion of what the relatioinship is."
      ]
    },
    {
      "cell_type": "markdown",
      "metadata": {
        "id": "F8obB7hMQsAo",
        "colab_type": "text"
      },
      "source": [
        "![alt text](https://miro.medium.com/max/1564/1*Gl5dciQc0H72vnZr5vIGqA.png)"
      ]
    },
    {
      "cell_type": "markdown",
      "metadata": {
        "id": "UKxednsNQ9tr",
        "colab_type": "text"
      },
      "source": [
        "Overfitting is when models perform very well on the training data but perform poorly on the test data. The model is able to fit training points very closely,  but cannot generalize well to new examples because it has learned a relationship that is overly complex and overly specialized to the training set. "
      ]
    },
    {
      "cell_type": "markdown",
      "metadata": {
        "id": "5h9Ov0N1SS6L",
        "colab_type": "text"
      },
      "source": [
        "![alt text](https://ardianumam.files.wordpress.com/2017/09/overfitting1.jpg)\n"
      ]
    },
    {
      "cell_type": "code",
      "metadata": {
        "id": "jP0fRi81RgSe",
        "colab_type": "code",
        "outputId": "4435704b-f9e4-44b1-f1f8-ae232112014f",
        "colab": {
          "base_uri": "https://localhost:8080/",
          "height": 51
        }
      },
      "source": [
        "print(\"Testing accuracy: \", model.score(X_test, y_test))\n",
        "print(\"Training accuracy: \", model.score(X_train, y_train))"
      ],
      "execution_count": 0,
      "outputs": [
        {
          "output_type": "stream",
          "text": [
            "Testing accuracy:  0.33222203269065176\n",
            "Training accuracy:  0.5539285357415583\n"
          ],
          "name": "stdout"
        }
      ]
    },
    {
      "cell_type": "markdown",
      "metadata": {
        "id": "OLAcct1JSAi3",
        "colab_type": "text"
      },
      "source": [
        "Our testing accuracy and training accuracy are both pretty low. That may be a sign that our model has underfit the training data."
      ]
    },
    {
      "cell_type": "markdown",
      "metadata": {
        "id": "OuOV1NHnUIgA",
        "colab_type": "text"
      },
      "source": [
        "One way we can reduce underfitting is by adding on polynomial features, meaning we take on of our features, square it, or cube it, or multiply with another feature, and then add that as another data column. That way, our model has essentially more to go off of when it learns. Here, PolynomialFeatures is a tool provided by the sklearn library that can easily create those polynomial features for us, and we can easily select the degree we want. Right now, we are using a degree of two, which is a quadratic fit."
      ]
    },
    {
      "cell_type": "code",
      "metadata": {
        "id": "SuHT3M94UZiZ",
        "colab_type": "code",
        "outputId": "86600f72-f4b7-4c8c-a3c7-c0dcede9faa2",
        "colab": {
          "base_uri": "https://localhost:8080/",
          "height": 34
        }
      },
      "source": [
        "from sklearn.preprocessing import PolynomialFeatures\n",
        "poly = PolynomialFeatures(degree = 2)\n",
        "poly_features = poly.fit_transform(diabetes.data[:, 0:3])\n",
        "poly_features = np.delete(poly_features, (0, 1, 2), 1)\n",
        "poly_data = np.concatenate((diabetes.data, poly_features), axis = 1)\n",
        "print(poly_data.shape)\n",
        "X_train2, X_test2, y_train2, y_test2 = train_test_split(poly_data, diabetes.target, test_size=0.2, random_state=0)"
      ],
      "execution_count": 0,
      "outputs": [
        {
          "output_type": "stream",
          "text": [
            "(442, 17)\n"
          ],
          "name": "stdout"
        }
      ]
    },
    {
      "cell_type": "code",
      "metadata": {
        "id": "X2rfpcj1frxY",
        "colab_type": "code",
        "outputId": "a2a8ffc2-9d02-434f-e90c-0756c0913dab",
        "colab": {
          "base_uri": "https://localhost:8080/",
          "height": 51
        }
      },
      "source": [
        "model.fit(X_train2, y_train2)\n",
        "print(model.score(X_test2, y_test2))\n",
        "print(model.score(X_train2, y_train2))"
      ],
      "execution_count": 0,
      "outputs": [
        {
          "output_type": "stream",
          "text": [
            "0.35292669507760577\n",
            "0.5794148059518287\n"
          ],
          "name": "stdout"
        }
      ]
    },
    {
      "cell_type": "markdown",
      "metadata": {
        "id": "vw-uaoCbiH76",
        "colab_type": "text"
      },
      "source": [
        "We are doing marginally better. We essentially did this to our model. We turned the linear fit into a quadratic fit.\n",
        "![This is not our data](https://animoidin.files.wordpress.com/2018/07/polim_vs_linear.jpg?w=909&h=584&crop=1)"
      ]
    },
    {
      "cell_type": "markdown",
      "metadata": {
        "id": "yVpclFmWjREO",
        "colab_type": "text"
      },
      "source": [
        "The degree of two was one I randomly selected. What happens if I select a degree of 8?"
      ]
    },
    {
      "cell_type": "code",
      "metadata": {
        "id": "XmklfQWvjoce",
        "colab_type": "code",
        "outputId": "6acd06b5-f78e-4deb-aabf-1cccd711004c",
        "colab": {
          "base_uri": "https://localhost:8080/",
          "height": 34
        }
      },
      "source": [
        "poly = PolynomialFeatures(degree = 8)\n",
        "poly10_features = poly.fit_transform(diabetes.data[:, 0:3])\n",
        "poly10_features = np.delete(poly10_features, (0, 1, 2), 1)\n",
        "poly10_data = np.concatenate((diabetes.data, poly10_features), axis = 1)\n",
        "print(poly10_data.shape)\n",
        "X_train10, X_test10, y_train10, y_test10 = train_test_split(poly10_data, diabetes.target, test_size=0.2, random_state=0)"
      ],
      "execution_count": 0,
      "outputs": [
        {
          "output_type": "stream",
          "text": [
            "(442, 172)\n"
          ],
          "name": "stdout"
        }
      ]
    },
    {
      "cell_type": "code",
      "metadata": {
        "id": "Uc8ttoGxkAQv",
        "colab_type": "code",
        "outputId": "da49da25-b3e2-427c-c463-fa6005202ac3",
        "colab": {
          "base_uri": "https://localhost:8080/",
          "height": 51
        }
      },
      "source": [
        "model.fit(X_train10, y_train10)\n",
        "print(model.score(X_train10, y_train10))\n",
        "print(model.score(X_test10, y_test10))"
      ],
      "execution_count": 0,
      "outputs": [
        {
          "output_type": "stream",
          "text": [
            "0.6486828967643996\n",
            "0.18729864038150798\n"
          ],
          "name": "stdout"
        }
      ]
    },
    {
      "cell_type": "markdown",
      "metadata": {
        "id": "3UWi0H0H8IOc",
        "colab_type": "text"
      },
      "source": [
        "Here we can see that the score on the training set is better, but the score on the test set is a lot worse. This is what we were just talking about, overfitting. Clearly the degree of the polynomial we choose has a lot to do with whether our model will underfit or overfit. But we can't just keep trying random degrees until we hit the right one. That's why we'll use cross validation instead."
      ]
    },
    {
      "cell_type": "markdown",
      "metadata": {
        "id": "_myO5qHiymsO",
        "colab_type": "text"
      },
      "source": [
        "#Cross Validation"
      ]
    },
    {
      "cell_type": "markdown",
      "metadata": {
        "id": "hFF7dZXSjBGu",
        "colab_type": "text"
      },
      "source": [
        "We discussed overfitting above. It is a common problem in machine learning where models seem to be achieving very high accuracy when training, but then just completely fail in real world settings. This is probably because the model is overfitting to the data and instead of forming a general function that relates diabetes to some attributes (age, bmi, sex, etc.), the model is \"cheating\" and just adjusting to random noise in the data.\n",
        "\n",
        "In essence we want to see how well the model will perform in the real world.  In the real world, the model receives data it has never seen before and it is asked to make predictions about this data.  So the only real way to assess the accuracy of your model is to test it on data it has never seen before. This is what cross validation is. There are many different methods of cross validation, but today we will be discussing the most basic one called the  \"holdout\" method.\n",
        "\n",
        "When we originally receive some data, we keep some aside that we will test the model on in the end. This is the \"test\" set.  Most of the data will be used to train the model so it is the  \"train\" set.  \n",
        "\n",
        "\n",
        "![alt text](https://miro.medium.com/max/2840/1*-8_kogvwmL1H6ooN1A1tsQ.png)\n"
      ]
    },
    {
      "cell_type": "code",
      "metadata": {
        "colab_type": "code",
        "id": "P-oeFORJqI_v",
        "outputId": "9c470b40-2fb4-4f23-b851-b876098c4f51",
        "colab": {
          "base_uri": "https://localhost:8080/",
          "height": 51
        }
      },
      "source": [
        "from sklearn.model_selection import train_test_split\n",
        "X_train, X_test, y_train, y_test = train_test_split(diabetes.data, diabetes.target, test_size=0.2, random_state=0)\n",
        "print(diabetes.data.shape)\n",
        "X_train.shape"
      ],
      "execution_count": 0,
      "outputs": [
        {
          "output_type": "stream",
          "text": [
            "(442, 10)\n"
          ],
          "name": "stdout"
        },
        {
          "output_type": "execute_result",
          "data": {
            "text/plain": [
              "(353, 10)"
            ]
          },
          "metadata": {
            "tags": []
          },
          "execution_count": 12
        }
      ]
    },
    {
      "cell_type": "markdown",
      "metadata": {
        "id": "LQ9FvNnuqhe5",
        "colab_type": "text"
      },
      "source": [
        "This is what this line of code is doing above. It is splitting the original data into train sets and test sets. If you noticed the shape of the original dataset, it has 442 rows.  In the train_test_split, we specify that the test_size is 0.2.  This means 20% of the data is given to the test set and 80% is set aside for the training set. So when we call X_train.shape, we see that the  training set has 353 rows,  which  is 80% of 442!\n",
        "\n",
        "Another thing to note is when you are splitting the original data, you must randomize the rows you are selecting for training and testing so the model is training and testing on diverse data."
      ]
    },
    {
      "cell_type": "code",
      "metadata": {
        "id": "HvNxFjN_tPLg",
        "colab_type": "code",
        "outputId": "01ad40bb-9148-4e67-8409-b37e05676a55",
        "colab": {
          "base_uri": "https://localhost:8080/",
          "height": 51
        }
      },
      "source": [
        "print(model_final.score(X_train, y_train))\n",
        "print(model_final.score(X_test, y_test))"
      ],
      "execution_count": 0,
      "outputs": [
        {
          "output_type": "stream",
          "text": [
            "0.5539285357415583\n",
            "0.33222203269065176\n"
          ],
          "name": "stdout"
        }
      ]
    },
    {
      "cell_type": "markdown",
      "metadata": {
        "id": "B3ly3-JFu9Ug",
        "colab_type": "text"
      },
      "source": [
        "As we see here, the test score is significantly lower than the train score showing that our original model did overfit.  This is to be expected, since we didn't add anything to our model to prevent it from overfitting. But at least we know what the true score of this model will be in the real world and we can work to improve it, rather than getting false high hopes by just going off of the training score."
      ]
    },
    {
      "cell_type": "markdown",
      "metadata": {
        "colab_type": "text",
        "id": "zAyq75_TiGon"
      },
      "source": [
        "#Video!"
      ]
    },
    {
      "cell_type": "code",
      "metadata": {
        "id": "c1U4Fzb7idCW",
        "colab_type": "code",
        "outputId": "778b6de1-85ff-4eb0-fb8f-deb0c967b53c",
        "colab": {
          "base_uri": "https://localhost:8080/",
          "height": 321
        }
      },
      "source": [
        "from IPython.display import YouTubeVideo\n",
        "YouTubeVideo('JMLsHI8aV0g')"
      ],
      "execution_count": 0,
      "outputs": [
        {
          "output_type": "execute_result",
          "data": {
            "text/html": [
              "\n",
              "        <iframe\n",
              "            width=\"400\"\n",
              "            height=\"300\"\n",
              "            src=\"https://www.youtube.com/embed/JMLsHI8aV0g\"\n",
              "            frameborder=\"0\"\n",
              "            allowfullscreen\n",
              "        ></iframe>\n",
              "        "
            ],
            "text/plain": [
              "<IPython.lib.display.YouTubeVideo at 0x7f37c4aa3748>"
            ],
            "image/jpeg": "[encoded data removed]"
          },
          "metadata": {
            "tags": []
          },
          "execution_count": 8
        }
      ]
    }
  ]
}
